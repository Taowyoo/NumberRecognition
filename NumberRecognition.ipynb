{
  "nbformat": 4,
  "nbformat_minor": 0,
  "metadata": {
    "colab": {
      "name": "LearnNumberRecognition.ipynb",
      "provenance": [],
      "collapsed_sections": []
    },
    "kernelspec": {
      "name": "python3",
      "display_name": "Python 3"
    },
    "accelerator": "GPU"
  },
  "cells": [
    {
      "cell_type": "code",
      "metadata": {
        "id": "vaQv2VUEi1hW",
        "colab_type": "code",
        "colab": {
          "base_uri": "https://localhost:8080/",
          "height": 34
        },
        "outputId": "1c52bd18-abff-4f0b-f1c5-ab5bf02ebd02"
      },
      "source": [
        "from keras.datasets import mnist\n",
        "import matplotlib.pyplot as plt\n",
        "from keras.utils import to_categorical\n",
        "from keras.models import Sequential\n",
        "from keras.layers import Dense, Dropout, Flatten, Conv2D, MaxPooling2D\n",
        "%matplotlib inline"
      ],
      "execution_count": 1,
      "outputs": [
        {
          "output_type": "stream",
          "text": [
            "Using TensorFlow backend.\n"
          ],
          "name": "stderr"
        }
      ]
    },
    {
      "cell_type": "code",
      "metadata": {
        "id": "ech8lvWT2f_Y",
        "colab_type": "code",
        "colab": {
          "base_uri": "https://localhost:8080/",
          "height": 50
        },
        "outputId": "76de6efc-253b-4133-b37c-6735cc7a9503"
      },
      "source": [
        "(x_train, y_train), (x_test, y_test) = mnist.load_data()"
      ],
      "execution_count": 2,
      "outputs": [
        {
          "output_type": "stream",
          "text": [
            "Downloading data from https://s3.amazonaws.com/img-datasets/mnist.npz\n",
            "11493376/11490434 [==============================] - 2s 0us/step\n"
          ],
          "name": "stdout"
        }
      ]
    },
    {
      "cell_type": "code",
      "metadata": {
        "id": "wK2KljfvjcNc",
        "colab_type": "code",
        "outputId": "88e8e145-231a-40ce-c185-a631e0f665ad",
        "colab": {
          "base_uri": "https://localhost:8080/",
          "height": 282
        }
      },
      "source": [
        "image_index = 35\n",
        "print(y_train[image_index])\n",
        "plt.imshow(x_train[image_index], cmap='Greys')\n",
        "plt.show()"
      ],
      "execution_count": 3,
      "outputs": [
        {
          "output_type": "stream",
          "text": [
            "5\n"
          ],
          "name": "stdout"
        },
        {
          "output_type": "display_data",
          "data": {
            "image/png": "[encoded data removed]",
            "text/plain": [
              "<Figure size 432x288 with 1 Axes>"
            ]
          },
          "metadata": {
            "tags": [],
            "needs_background": "light"
          }
        }
      ]
    },
    {
      "cell_type": "code",
      "metadata": {
        "id": "69PgC955pK7j",
        "colab_type": "code",
        "outputId": "d9a5440a-4c6d-4012-fa5d-92729ed2f792",
        "colab": {
          "base_uri": "https://localhost:8080/",
          "height": 84
        }
      },
      "source": [
        "print(\"x_train.shape \"+str(x_train.shape))\n",
        "print(\"x_test.shape \"+str(x_test.shape))\n",
        "print(\"y_train.shape \"+str(y_train.shape))\n",
        "print(\"y_test.shape \"+str(y_test.shape))\n"
      ],
      "execution_count": 4,
      "outputs": [
        {
          "output_type": "stream",
          "text": [
            "x_train.shape (60000, 28, 28)\n",
            "x_test.shape (10000, 28, 28)\n",
            "y_train.shape (60000,)\n",
            "y_test.shape (10000,)\n"
          ],
          "name": "stdout"
        }
      ]
    },
    {
      "cell_type": "code",
      "metadata": {
        "id": "HsWtJ5SUyMur",
        "colab_type": "code",
        "outputId": "a28e1d22-7826-4dca-ec0e-37f0751f312a",
        "colab": {
          "base_uri": "https://localhost:8080/",
          "height": 50
        }
      },
      "source": [
        "# save input image dimensions\n",
        "img_rows, img_cols = 28, 28\n",
        "\n",
        "x_train = x_train.reshape(x_train.shape[0], img_rows, img_cols, 1)\n",
        "x_test = x_test.reshape(x_test.shape[0], img_rows, img_cols, 1)\n",
        "\n",
        "x_train, x_test = x_train / 255.0, x_test / 255.0\n",
        "\n",
        "print(\"x_train.shape \"+str(x_train.shape))\n",
        "print(\"x_test.shape \"+str(x_test.shape))"
      ],
      "execution_count": 5,
      "outputs": [
        {
          "output_type": "stream",
          "text": [
            "x_train.shape (60000, 28, 28, 1)\n",
            "x_test.shape (10000, 28, 28, 1)\n"
          ],
          "name": "stdout"
        }
      ]
    },
    {
      "cell_type": "code",
      "metadata": {
        "id": "frWqPT730cvz",
        "colab_type": "code",
        "colab": {}
      },
      "source": [
        "num_classes = 10\n",
        "\n",
        "# y_train = to_categorical(y_train, num_classes)\n",
        "# y_test = to_categorical(y_test, num_classes)\n",
        "# print(\"y_train.shape \"+str(y_train.shape))\n",
        "# print(\"y_test.shape \"+str(y_test.shape))\n",
        "\n",
        "\n",
        "# x_train = to_categorical(x_train, num_classes)\n",
        "# x_test = to_categorical(x_test, num_classes)\n",
        "# print(\"x_train.shape \"+str(x_train.shape))\n",
        "# print(\"x_test.shape \"+str(x_test.shape))"
      ],
      "execution_count": 0,
      "outputs": []
    },
    {
      "cell_type": "code",
      "metadata": {
        "id": "NhiPERyc1hny",
        "colab_type": "code",
        "colab": {}
      },
      "source": [
        "model = Sequential()\n",
        "model.add(Conv2D(32, kernel_size=(3, 3),\n",
        "     activation='relu',\n",
        "     input_shape=(img_rows, img_cols, 1)))\n",
        "\n",
        "model.add(Conv2D(64, (3, 3), activation='relu'))\n",
        "model.add(MaxPooling2D(pool_size=(2, 2)))\n",
        "\n",
        "model.add(Dropout(0.25))\n",
        "\n",
        "model.add(Flatten())\n",
        "\n",
        "model.add(Dense(128, activation='relu'))\n",
        "model.add(Dropout(0.5))\n",
        "model.add(Dense(num_classes, activation='softmax'))"
      ],
      "execution_count": 0,
      "outputs": []
    },
    {
      "cell_type": "code",
      "metadata": {
        "id": "Wne-38x-18aX",
        "colab_type": "code",
        "colab": {}
      },
      "source": [
        "model.compile(loss='sparse_categorical_crossentropy',\n",
        "      optimizer='adam',\n",
        "      metrics=['accuracy'])"
      ],
      "execution_count": 0,
      "outputs": []
    },
    {
      "cell_type": "code",
      "metadata": {
        "id": "ZA0_ZYzoB7Kx",
        "colab_type": "code",
        "outputId": "96ab27cf-2370-4fd1-82cb-bd9d13973c36",
        "colab": {
          "base_uri": "https://localhost:8080/",
          "height": 403
        }
      },
      "source": [
        "batch_size = 128\n",
        "epochs = 10\n",
        "\n",
        "model.fit(x_train, y_train,\n",
        "          batch_size=batch_size,\n",
        "          epochs=epochs,\n",
        "          verbose=1,\n",
        "          validation_data=(x_test, y_test))\n",
        "score = model.evaluate(x_test, y_test, verbose=0)\n",
        "print('Test loss:', score[0])\n",
        "print('Test accuracy:', score[1])\n",
        "model.save(\"test_model.h5\")"
      ],
      "execution_count": 9,
      "outputs": [
        {
          "output_type": "stream",
          "text": [
            "Train on 60000 samples, validate on 10000 samples\n",
            "Epoch 1/10\n",
            "60000/60000 [==============================] - 12s 198us/step - loss: 0.2421 - accuracy: 0.9254 - val_loss: 0.0583 - val_accuracy: 0.9820\n",
            "Epoch 2/10\n",
            "60000/60000 [==============================] - 5s 90us/step - loss: 0.0889 - accuracy: 0.9747 - val_loss: 0.0378 - val_accuracy: 0.9876\n",
            "Epoch 3/10\n",
            "60000/60000 [==============================] - 5s 90us/step - loss: 0.0654 - accuracy: 0.9803 - val_loss: 0.0336 - val_accuracy: 0.9885\n",
            "Epoch 4/10\n",
            "60000/60000 [==============================] - 5s 91us/step - loss: 0.0548 - accuracy: 0.9834 - val_loss: 0.0282 - val_accuracy: 0.9906\n",
            "Epoch 5/10\n",
            "60000/60000 [==============================] - 5s 90us/step - loss: 0.0466 - accuracy: 0.9850 - val_loss: 0.0301 - val_accuracy: 0.9897\n",
            "Epoch 6/10\n",
            "60000/60000 [==============================] - 5s 90us/step - loss: 0.0399 - accuracy: 0.9874 - val_loss: 0.0335 - val_accuracy: 0.9892\n",
            "Epoch 7/10\n",
            "60000/60000 [==============================] - 5s 90us/step - loss: 0.0345 - accuracy: 0.9887 - val_loss: 0.0317 - val_accuracy: 0.9909\n",
            "Epoch 8/10\n",
            "60000/60000 [==============================] - 5s 90us/step - loss: 0.0321 - accuracy: 0.9898 - val_loss: 0.0272 - val_accuracy: 0.9925\n",
            "Epoch 9/10\n",
            "60000/60000 [==============================] - 5s 90us/step - loss: 0.0288 - accuracy: 0.9904 - val_loss: 0.0277 - val_accuracy: 0.9910\n",
            "Epoch 10/10\n",
            "60000/60000 [==============================] - 5s 90us/step - loss: 0.0270 - accuracy: 0.9912 - val_loss: 0.0277 - val_accuracy: 0.9912\n",
            "Test loss: 0.027737520842298725\n",
            "Test accuracy: 0.9911999702453613\n"
          ],
          "name": "stdout"
        }
      ]
    }
  ]
}